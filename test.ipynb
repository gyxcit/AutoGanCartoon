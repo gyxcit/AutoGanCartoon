{
 "cells": [
  {
   "cell_type": "code",
   "execution_count": 3,
   "metadata": {},
   "outputs": [],
   "source": [
    "from tensorflow.keras.models import load_model\n",
    "from PIL import Image\n",
    "import numpy as np\n"
   ]
  },
  {
   "cell_type": "code",
   "execution_count": 4,
   "metadata": {},
   "outputs": [
    {
     "name": "stderr",
     "output_type": "stream",
     "text": [
      "WARNING:absl:No training configuration found in the save file, so the model was *not* compiled. Compile it manually.\n",
      "WARNING:absl:No training configuration found in the save file, so the model was *not* compiled. Compile it manually.\n"
     ]
    },
    {
     "name": "stdout",
     "output_type": "stream",
     "text": [
      "Modèles chargés avec succès !\n"
     ]
    }
   ],
   "source": [
    "# Charger les modèles sauvegardés\n",
    "generator = load_model(\"generator_model.h5\")\n",
    "discriminator = load_model(\"discriminator_model.h5\")\n",
    "\n",
    "print(\"Modèles chargés avec succès !\")"
   ]
  },
  {
   "cell_type": "code",
   "execution_count": 5,
   "metadata": {},
   "outputs": [],
   "source": [
    "def preprocess_image(image_path, target_size=(256, 256)):\n",
    "    \"\"\"\n",
    "    Prétraiter une image pour l'inférence.\n",
    "    \"\"\"\n",
    "    image = Image.open(image_path).convert('RGB')\n",
    "    image = image.resize(target_size)\n",
    "    image = np.array(image).astype('float32') / 127.5 - 1  # Normalisation [-1, 1]\n",
    "    return image[np.newaxis, ...]  # Ajouter une dimension batch"
   ]
  },
  {
   "cell_type": "code",
   "execution_count": 6,
   "metadata": {},
   "outputs": [],
   "source": [
    "def postprocess_image(image):\n",
    "    \"\"\"\n",
    "    Post-traiter l'image générée pour affichage ou sauvegarde.\n",
    "    \"\"\"\n",
    "    image = ((image + 1) / 2 * 255).astype(np.uint8)  # Re-normalisation [0, 255]\n",
    "    return Image.fromarray(image)\n"
   ]
  },
  {
   "cell_type": "code",
   "execution_count": 9,
   "metadata": {},
   "outputs": [],
   "source": [
    "if __name__ == \"__main__\":\n",
    "    input_image_path = \"test_gen/65.jpg\"\n",
    "    input_image = preprocess_image(input_image_path)\n",
    "\n",
    "    # Génération avec le modèle chargé\n",
    "    generated_image = generator(input_image, training=False).numpy()\n",
    "    output_image = postprocess_image(generated_image[0])  # Supprimer la dimension batch\n",
    "\n",
    "    # Afficher ou sauvegarder l'image générée\n",
    "    output_image.show()  # Afficher l'image\n",
    "    output_image.save(\"cartoonified_image.jpg\")"
   ]
  }
 ],
 "metadata": {
  "kernelspec": {
   "display_name": "venv",
   "language": "python",
   "name": "python3"
  },
  "language_info": {
   "codemirror_mode": {
    "name": "ipython",
    "version": 3
   },
   "file_extension": ".py",
   "mimetype": "text/x-python",
   "name": "python",
   "nbconvert_exporter": "python",
   "pygments_lexer": "ipython3",
   "version": "3.12.8"
  }
 },
 "nbformat": 4,
 "nbformat_minor": 2
}
