{
 "cells": [
  {
   "cell_type": "code",
   "execution_count": null,
   "metadata": {},
   "outputs": [],
   "source": [
    "# Préparer les données avec votre fonction cartoonize_folder\n",
    "from pathlib import Path\n",
    "from cartoonization import cartoonize_folder\n",
    "from torchvision import datasets\n",
    "\n",
    "\n",
    "\n",
    "\n",
    "input_folder = Path(\"dataset/normal\")\n",
    "output_folder = Path(\"dataset/cartoon\")\n",
    "target_size = (256, 256)  # Redimensionner les images à 256x256 pixels\n",
    "\n",
    "cartoonize_folder(input_folder, output_folder, target_size=target_size)\n",
    "\n",
    "# Charger les données dans PyTorch après prétraitement\n",
    "dataset = datasets.ImageFolder(\n",
    "    root=\"dataset\",  # Assurez-vous que ce dossier contient 'normal' et 'cartoon'\n",
    "    transform=transform\n",
    ")\n",
    "\n",
    "# Diviser en train/test après avoir généré les images cartoon\n",
    "train_size = int(0.8 * len(dataset))\n",
    "test_size = len(dataset) - train_size\n",
    "train_dataset, test_dataset = random_split(dataset, [train_size, test_size])\n",
    "\n",
    "train_loader = DataLoader(train_dataset, batch_size=16, shuffle=True)\n",
    "test_loader = DataLoader(test_dataset, batch_size=16, shuffle=False)\n",
    "\n",
    "# Exécuter l'entraînement Pix2Pix avec les données générées\n",
    "train(gen, disc, train_loader, opt_g, opt_d, criterion_gan, device)\n"
   ]
  }
 ],
 "metadata": {
  "kernelspec": {
   "display_name": "venv",
   "language": "python",
   "name": "python3"
  },
  "language_info": {
   "name": "python",
   "version": "3.12.8"
  }
 },
 "nbformat": 4,
 "nbformat_minor": 2
}
